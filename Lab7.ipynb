{
  "nbformat": 4,
  "nbformat_minor": 0,
  "metadata": {
    "colab": {
      "provenance": [],
      "authorship_tag": "ABX9TyMFt1NY5wiR6xRtr2kkjAT/",
      "include_colab_link": true
    },
    "kernelspec": {
      "name": "python3",
      "display_name": "Python 3"
    },
    "language_info": {
      "name": "python"
    }
  },
  "cells": [
    {
      "cell_type": "markdown",
      "metadata": {
        "id": "view-in-github",
        "colab_type": "text"
      },
      "source": [
        "<a href=\"https://colab.research.google.com/github/Aarthi-Muniyandi/Artificial-Intelligence/blob/main/Lab7.ipynb\" target=\"_parent\"><img src=\"https://colab.research.google.com/assets/colab-badge.svg\" alt=\"Open In Colab\"/></a>"
      ]
    },
    {
      "cell_type": "code",
      "execution_count": 1,
      "metadata": {
        "colab": {
          "base_uri": "https://localhost:8080/"
        },
        "id": "JFugY4qm_AQL",
        "outputId": "9c392239-fa63-4391-c1f4-cd1118662884"
      },
      "outputs": [
        {
          "output_type": "stream",
          "name": "stdout",
          "text": [
            "Collecting python-constraint\n",
            "  Downloading python-constraint-1.4.0.tar.bz2 (18 kB)\n",
            "  Preparing metadata (setup.py) ... \u001b[?25l\u001b[?25hdone\n",
            "Building wheels for collected packages: python-constraint\n",
            "  Building wheel for python-constraint (setup.py) ... \u001b[?25l\u001b[?25hdone\n",
            "  Created wheel for python-constraint: filename=python_constraint-1.4.0-py2.py3-none-any.whl size=24059 sha256=476fe26869b6916fecff4cb457fd815e38cafc5e42b5025c03a48a95ff585eff\n",
            "  Stored in directory: /root/.cache/pip/wheels/1e/af/a9/990ae7e6a78319b7d7afaab2d14e7e5ae349d5613db5ae28fd\n",
            "Successfully built python-constraint\n",
            "Installing collected packages: python-constraint\n",
            "Successfully installed python-constraint-1.4.0\n",
            "python3: can't open file '/content/cons.py': [Errno 2] No such file or directory\n"
          ]
        }
      ],
      "source": [
        "!pip install python-constraint\n",
        "!python cons.py"
      ]
    },
    {
      "cell_type": "code",
      "source": [
        "!pip show python-constraint\n"
      ],
      "metadata": {
        "colab": {
          "base_uri": "https://localhost:8080/"
        },
        "id": "B1YeTPeT_EZ5",
        "outputId": "08f00862-dbf3-400e-f4ea-59a1fde1fee8"
      },
      "execution_count": 2,
      "outputs": [
        {
          "output_type": "stream",
          "name": "stdout",
          "text": [
            "Name: python-constraint\n",
            "Version: 1.4.0\n",
            "Summary: python-constraint is a module implementing support for handling CSPs (Constraint Solving Problems) over finite domain\n",
            "Home-page: https://github.com/python-constraint/python-constraint\n",
            "Author: Gustavo Niemeyer\n",
            "Author-email: gustavo@niemeyer.net\n",
            "License: \n",
            "Location: /usr/local/lib/python3.11/dist-packages\n",
            "Requires: \n",
            "Required-by: \n"
          ]
        }
      ]
    },
    {
      "cell_type": "code",
      "source": [
        "import constraint\n",
        "print(constraint.__file__)\n"
      ],
      "metadata": {
        "colab": {
          "base_uri": "https://localhost:8080/"
        },
        "id": "QPhzkOtT_t6b",
        "outputId": "d42b6997-57d0-4c5d-a448-5b7273727d37"
      },
      "execution_count": 3,
      "outputs": [
        {
          "output_type": "stream",
          "name": "stdout",
          "text": [
            "/usr/local/lib/python3.11/dist-packages/constraint/__init__.py\n"
          ]
        }
      ]
    },
    {
      "cell_type": "code",
      "source": [
        "import sys\n",
        "sys.path.append('/usr/local/lib/python3.11/dist-packages')  # Add the correct path\n",
        "\n",
        "import constraint  # Now import should work\n",
        "print(\"python-constraint imported successfully!\")\n"
      ],
      "metadata": {
        "colab": {
          "base_uri": "https://localhost:8080/"
        },
        "id": "bOzfMGoL_2C3",
        "outputId": "c0a3989b-fdf7-4d27-9dbb-486500520d4f"
      },
      "execution_count": 4,
      "outputs": [
        {
          "output_type": "stream",
          "name": "stdout",
          "text": [
            "python-constraint imported successfully!\n"
          ]
        }
      ]
    },
    {
      "cell_type": "code",
      "source": [
        "from constraint import Problem, AllDifferentConstraint\n",
        "\n",
        "def constraint_function(variables, domains, assignments):\n",
        "    # Define your constraints here\n",
        "    # Example: variables[0] + variables[1] == variables[2]\n",
        "    return True\n",
        "\n",
        "def main():\n",
        "    # Create a problem instance\n",
        "    problem = Problem()\n",
        "\n",
        "    # Add variables to the problem\n",
        "    problem.addVariable('a', range(1, 5))\n",
        "    problem.addVariable('b', range(2, 4))\n",
        "    problem.addVariable('c', range(1, 3))\n",
        "\n",
        "    # Add a constraint function to the problem\n",
        "    problem.addConstraint(constraint_function, ['a', 'b', 'c'])\n",
        "\n",
        "    # Optionally, add an \"All Different\" constraint\n",
        "    problem.addConstraint(AllDifferentConstraint(), ['a', 'b', 'c'])\n",
        "\n",
        "    # Solve the problem\n",
        "    solutions = problem.getSolutions()\n",
        "\n",
        "    # Print the solutions\n",
        "    for solution in solutions:\n",
        "        print(solution)\n",
        "\n",
        "if __name__ == \"__main__\":\n",
        "    main()\n"
      ],
      "metadata": {
        "colab": {
          "base_uri": "https://localhost:8080/"
        },
        "id": "qm1YuPtoAciN",
        "outputId": "4936c568-6be6-475a-e26a-801b16efd4ea"
      },
      "execution_count": 5,
      "outputs": [
        {
          "output_type": "stream",
          "name": "stdout",
          "text": [
            "{'b': 3, 'c': 2, 'a': 4}\n",
            "{'b': 3, 'c': 2, 'a': 1}\n",
            "{'b': 3, 'c': 1, 'a': 2}\n",
            "{'b': 3, 'c': 1, 'a': 4}\n",
            "{'b': 2, 'c': 1, 'a': 3}\n",
            "{'b': 2, 'c': 1, 'a': 4}\n"
          ]
        }
      ]
    },
    {
      "cell_type": "code",
      "source": [],
      "metadata": {
        "id": "08RYeiQJAfZR"
      },
      "execution_count": null,
      "outputs": []
    }
  ]
}