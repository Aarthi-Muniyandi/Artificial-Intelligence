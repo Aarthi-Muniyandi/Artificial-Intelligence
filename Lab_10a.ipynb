{
  "nbformat": 4,
  "nbformat_minor": 0,
  "metadata": {
    "colab": {
      "provenance": [],
      "authorship_tag": "ABX9TyNPOX23+S/bpFLuRymWQxPK",
      "include_colab_link": true
    },
    "kernelspec": {
      "name": "python3",
      "display_name": "Python 3"
    },
    "language_info": {
      "name": "python"
    }
  },
  "cells": [
    {
      "cell_type": "markdown",
      "metadata": {
        "id": "view-in-github",
        "colab_type": "text"
      },
      "source": [
        "<a href=\"https://colab.research.google.com/github/Aarthi-Muniyandi/Artificial-Intelligence/blob/main/Lab_10a.ipynb\" target=\"_parent\"><img src=\"https://colab.research.google.com/assets/colab-badge.svg\" alt=\"Open In Colab\"/></a>"
      ]
    },
    {
      "cell_type": "code",
      "execution_count": 1,
      "metadata": {
        "colab": {
          "base_uri": "https://localhost:8080/"
        },
        "id": "anufQ847FYII",
        "outputId": "98360d84-5938-46cc-b91d-1f84415b9c84"
      },
      "outputs": [
        {
          "output_type": "stream",
          "name": "stdout",
          "text": [
            "Inferred Facts are:\n",
            "[['vertebrate', 'duck'], ['flying', 'duck'], ['mammal', 'cat'], ['animal', 'duck'], ['bird', 'duck'], ['vertebrate', 'cat'], ['animal', 'cat']]\n"
          ]
        }
      ],
      "source": [
        "global facts\n",
        "global is_changed\n",
        "\n",
        "is_changed = True\n",
        "facts = [[\"vertebrate\", \"duck\"], [\"flying\", \"duck\"], [\"mammal\", \"cat\"]]\n",
        "\n",
        "def assert_fact(fact):\n",
        "    global facts\n",
        "    global is_changed\n",
        "\n",
        "    if fact not in facts:\n",
        "        facts.append(fact)\n",
        "        is_changed = True\n",
        "\n",
        "while is_changed:\n",
        "    is_changed = False\n",
        "    for A1 in facts:\n",
        "        if A1[0] == \"mammal\":\n",
        "            assert_fact([\"vertebrate\", A1[1]])\n",
        "        if A1[0] == \"vertebrate\":\n",
        "            assert_fact([\"animal\", A1[1]])\n",
        "        if A1[0] == \"vertebrate\" and [\"flying\", A1[1]] in facts:\n",
        "            assert_fact([\"bird\", A1[1]])\n",
        "\n",
        "print(\"Inferred Facts are:\")\n",
        "print(facts)\n"
      ]
    },
    {
      "cell_type": "code",
      "source": [],
      "metadata": {
        "id": "OpdmjcLmF8q0"
      },
      "execution_count": null,
      "outputs": []
    },
    {
      "cell_type": "code",
      "source": [],
      "metadata": {
        "id": "G1nk3MAGFgwl"
      },
      "execution_count": null,
      "outputs": []
    }
  ]
}