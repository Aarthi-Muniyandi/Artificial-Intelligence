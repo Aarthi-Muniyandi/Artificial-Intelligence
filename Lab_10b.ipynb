{
  "nbformat": 4,
  "nbformat_minor": 0,
  "metadata": {
    "colab": {
      "provenance": [],
      "authorship_tag": "ABX9TyPtHY+w/LeV441zeJocWnw4",
      "include_colab_link": true
    },
    "kernelspec": {
      "name": "python3",
      "display_name": "Python 3"
    },
    "language_info": {
      "name": "python"
    }
  },
  "cells": [
    {
      "cell_type": "markdown",
      "metadata": {
        "id": "view-in-github",
        "colab_type": "text"
      },
      "source": [
        "<a href=\"https://colab.research.google.com/github/Aarthi-Muniyandi/Artificial-Intelligence/blob/main/Lab_10b.ipynb\" target=\"_parent\"><img src=\"https://colab.research.google.com/assets/colab-badge.svg\" alt=\"Open In Colab\"/></a>"
      ]
    },
    {
      "cell_type": "code",
      "execution_count": 2,
      "metadata": {
        "colab": {
          "base_uri": "https://localhost:8080/"
        },
        "id": "FRnl8zTJG6q-",
        "outputId": "7d4f797e-c38e-4ce0-fdea-62578b0e77c8"
      },
      "outputs": [
        {
          "output_type": "stream",
          "name": "stdout",
          "text": [
            "Enter the goal: animal\n",
            "The goal 'animal' can be satisfied.\n",
            "Supported facts for the goal are:\n",
            "[['vertebrate', 'duck'], ['flying', 'duck'], ['mammal', 'cat'], ['animal', 'duck']]\n"
          ]
        }
      ],
      "source": [
        "global facts\n",
        "global is_changed\n",
        "\n",
        "is_changed = True\n",
        "facts = [[\"vertebrate\", \"duck\"], [\"flying\", \"duck\"], [\"mammal\", \"cat\"]]\n",
        "\n",
        "def assert_fact(fact):\n",
        "    global facts\n",
        "    global is_changed\n",
        "\n",
        "    if fact not in facts:\n",
        "        facts.append(fact)\n",
        "        is_changed = True\n",
        "\n",
        "def backward_chain(goal):\n",
        "    global facts\n",
        "    global is_changed\n",
        "\n",
        "    while is_changed:\n",
        "        is_changed = False\n",
        "        if goal in [fact[0] for fact in facts]:\n",
        "            return True\n",
        "\n",
        "        for A1 in facts:\n",
        "            if goal == \"vertebrate\" and A1[0] == \"mammal\":\n",
        "                assert_fact([\"vertebrate\", A1[1]])\n",
        "            if goal == \"animal\" and A1[0] == \"vertebrate\":\n",
        "                assert_fact([\"animal\", A1[1]])\n",
        "            if goal == \"bird\" and A1[0] == \"vertebrate\" and [\"flying\", A1[1]] in facts:\n",
        "                assert_fact([\"bird\", A1[1]])\n",
        "\n",
        "    return False\n",
        "\n",
        "# Prompt the user for input\n",
        "goal = input(\"Enter the goal: \")\n",
        "\n",
        "try:\n",
        "    result = backward_chain(goal)\n",
        "    if result:\n",
        "        print(f\"The goal '{goal}' can be satisfied.\")\n",
        "    else:\n",
        "        print(f\"The goal '{goal}' cannot be satisfied.\")\n",
        "except Exception as e:\n",
        "    print(\"Backward chaining failed:\", e)\n",
        "\n",
        "print(\"Supported facts for the goal are:\")\n",
        "print(facts)\n"
      ]
    },
    {
      "cell_type": "code",
      "source": [],
      "metadata": {
        "id": "v2BVzjVJHDdl"
      },
      "execution_count": null,
      "outputs": []
    }
  ]
}