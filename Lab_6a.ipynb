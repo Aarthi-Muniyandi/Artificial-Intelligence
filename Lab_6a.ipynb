{
  "nbformat": 4,
  "nbformat_minor": 0,
  "metadata": {
    "colab": {
      "provenance": [],
      "authorship_tag": "ABX9TyMrUlAf+4M69/Q+rNK2sYhv",
      "include_colab_link": true
    },
    "kernelspec": {
      "name": "python3",
      "display_name": "Python 3"
    },
    "language_info": {
      "name": "python"
    }
  },
  "cells": [
    {
      "cell_type": "markdown",
      "metadata": {
        "id": "view-in-github",
        "colab_type": "text"
      },
      "source": [
        "<a href=\"https://colab.research.google.com/github/Aarthi-Muniyandi/Artificial-Intelligence/blob/main/Lab_6a.ipynb\" target=\"_parent\"><img src=\"https://colab.research.google.com/assets/colab-badge.svg\" alt=\"Open In Colab\"/></a>"
      ]
    },
    {
      "cell_type": "code",
      "execution_count": 1,
      "metadata": {
        "colab": {
          "base_uri": "https://localhost:8080/"
        },
        "id": "qNoMEg-SBxq6",
        "outputId": "f1c841ac-5c1c-4a8d-d00a-1f0293b4c67f"
      },
      "outputs": [
        {
          "output_type": "stream",
          "name": "stdout",
          "text": [
            "The optimal value is: 12\n"
          ]
        }
      ],
      "source": [
        "import math\n",
        "\n",
        "def minimax(curDepth, nodeIndex, maxTurn, scores, targetDepth):\n",
        "    # Base case: targetDepth reached\n",
        "    if curDepth == targetDepth:\n",
        "        return scores[nodeIndex]\n",
        "\n",
        "    if maxTurn:\n",
        "        return max(\n",
        "            minimax(curDepth + 1, nodeIndex * 2, False, scores, targetDepth),\n",
        "            minimax(curDepth + 1, nodeIndex * 2 + 1, False, scores, targetDepth)\n",
        "        )\n",
        "    else:\n",
        "        return min(\n",
        "            minimax(curDepth + 1, nodeIndex * 2, True, scores, targetDepth),\n",
        "            minimax(curDepth + 1, nodeIndex * 2 + 1, True, scores, targetDepth)\n",
        "        )\n",
        "\n",
        "# Driver code\n",
        "scores = [3, 5, 2, 9, 12, 5, 23, 23]\n",
        "treeDepth = int(math.log2(len(scores)))\n",
        "\n",
        "print(\"The optimal value is:\", end=\" \")\n",
        "print(minimax(0, 0, True, scores, treeDepth))\n"
      ]
    },
    {
      "cell_type": "code",
      "source": [],
      "metadata": {
        "id": "QYO06XoGCd1c"
      },
      "execution_count": null,
      "outputs": []
    }
  ]
}