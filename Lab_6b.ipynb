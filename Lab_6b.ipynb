{
  "nbformat": 4,
  "nbformat_minor": 0,
  "metadata": {
    "colab": {
      "provenance": [],
      "authorship_tag": "ABX9TyMDOTbxu+0v8MXq8gaUQOoA",
      "include_colab_link": true
    },
    "kernelspec": {
      "name": "python3",
      "display_name": "Python 3"
    },
    "language_info": {
      "name": "python"
    }
  },
  "cells": [
    {
      "cell_type": "markdown",
      "metadata": {
        "id": "view-in-github",
        "colab_type": "text"
      },
      "source": [
        "<a href=\"https://colab.research.google.com/github/Aarthi-Muniyandi/Artificial-Intelligence/blob/main/Lab_6b.ipynb\" target=\"_parent\"><img src=\"https://colab.research.google.com/assets/colab-badge.svg\" alt=\"Open In Colab\"/></a>"
      ]
    },
    {
      "cell_type": "code",
      "execution_count": 2,
      "metadata": {
        "colab": {
          "base_uri": "https://localhost:8080/"
        },
        "id": "GNL8lrz4C05X",
        "outputId": "16f48a71-9c02-4517-9b16-c28f641644b9"
      },
      "outputs": [
        {
          "output_type": "stream",
          "name": "stdout",
          "text": [
            "The optimal value is: 5\n"
          ]
        }
      ],
      "source": [
        "# Python3 program to demonstrate working of Alpha-Beta Pruning\n",
        "\n",
        "# Initial values of Alpha and Beta\n",
        "MAX, MIN = 1000, -1000\n",
        "\n",
        "# Returns optimal value for the current player (Initially called for root and maximizer)\n",
        "def minimax(depth, nodeIndex, maximizingPlayer, values, alpha, beta):\n",
        "    # Terminating condition: leaf node is reached\n",
        "    if depth == 3:\n",
        "        return values[nodeIndex]\n",
        "\n",
        "    if maximizingPlayer:\n",
        "        best = MIN\n",
        "\n",
        "        # Recur for left and right children\n",
        "        for i in range(0, 2):\n",
        "            val = minimax(depth + 1, nodeIndex * 2 + i, False, values, alpha, beta)\n",
        "            best = max(best, val)\n",
        "            alpha = max(alpha, best)\n",
        "\n",
        "            # Alpha-Beta Pruning\n",
        "            if beta <= alpha:\n",
        "                break\n",
        "\n",
        "        return best\n",
        "\n",
        "    else:\n",
        "        best = MAX\n",
        "\n",
        "        # Recur for left and right children\n",
        "        for i in range(0, 2):\n",
        "            val = minimax(depth + 1, nodeIndex * 2 + i, True, values, alpha, beta)\n",
        "            best = min(best, val)\n",
        "            beta = min(beta, best)\n",
        "\n",
        "            # Alpha-Beta Pruning\n",
        "            if beta <= alpha:\n",
        "                break\n",
        "\n",
        "        return best\n",
        "\n",
        "# Driver Code\n",
        "if __name__ == \"__main__\":\n",
        "    values = [3, 5, 6, 9, 1, 2, 0, -1]\n",
        "    print(\"The optimal value is:\", minimax(0, 0, True, values, MIN, MAX))\n"
      ]
    },
    {
      "cell_type": "code",
      "source": [],
      "metadata": {
        "id": "JTzxUglpDXfE"
      },
      "execution_count": null,
      "outputs": []
    }
  ]
}